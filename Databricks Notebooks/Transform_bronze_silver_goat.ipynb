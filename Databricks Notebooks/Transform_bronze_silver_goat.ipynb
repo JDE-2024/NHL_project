{
 "cells": [
  {
   "cell_type": "markdown",
   "metadata": {
    "application/vnd.databricks.v1+cell": {
     "cellMetadata": {},
     "inputWidgets": {},
     "nuid": "5633f8c9-f9bc-4fb5-acc2-253211fedd48",
     "showTitle": false,
     "title": ""
    }
   },
   "source": [
    "#### Step 1: Import data and convert to dataframes "
   ]
  },
  {
   "cell_type": "code",
   "execution_count": 0,
   "metadata": {
    "application/vnd.databricks.v1+cell": {
     "cellMetadata": {
      "byteLimit": 2048000,
      "rowLimit": 10000
     },
     "inputWidgets": {},
     "nuid": "a129a528-69e2-4983-b7d4-aad9c3aeb177",
     "showTitle": false,
     "title": ""
    }
   },
   "outputs": [],
   "source": [
    "import pandas as pd\n",
    "from datetime import datetime\n",
    "\n",
    "player_info_csv_path=\"/mnt/nhl-finalproject/bronze/nhlkaggle.zip/player_info.csv\"\n",
    "game_skater_stats_csv_path= \"/mnt/nhl-finalproject/bronze/nhlkaggle.zip/game_skater_stats.csv\"\n",
    "team_info_csv_path ='/mnt/nhl-finalproject/bronze/nhlkaggle.zip/team_info.csv'\n",
    "game_goalie_stats_csv_path = '/mnt/nhl-finalproject/bronze/nhlkaggle.zip/game_goalie_stats.csv'\n",
    "\n",
    "\n",
    "# read csv to spark dataframe \n",
    "player_info = spark.read.csv(player_info_csv_path, header=True, inferSchema=True).toPandas()\n",
    "game_skater_stats = spark.read.csv(game_skater_stats_csv_path, header=True, inferSchema=True).toPandas()\n",
    "team_info = spark.read.csv(team_info_csv_path, header=True, inferSchema=True).toPandas()\n",
    "game_goalie_stats = spark.read.csv(game_goalie_stats_csv_path, header=True, inferSchema=True).toPandas()"
   ]
  },
  {
   "cell_type": "markdown",
   "metadata": {
    "application/vnd.databricks.v1+cell": {
     "cellMetadata": {},
     "inputWidgets": {},
     "nuid": "ee48104f-6146-4459-a463-2d029280b070",
     "showTitle": false,
     "title": ""
    }
   },
   "source": [
    "#### Step 2: Cleaning\n",
    "- Drop duplicates\n",
    "- Renaming column names to lower case"
   ]
  },
  {
   "cell_type": "code",
   "execution_count": 0,
   "metadata": {
    "application/vnd.databricks.v1+cell": {
     "cellMetadata": {
      "byteLimit": 2048000,
      "rowLimit": 10000
     },
     "inputWidgets": {},
     "nuid": "28b833d8-7e51-4e77-9cba-1c64f990bfa3",
     "showTitle": false,
     "title": ""
    }
   },
   "outputs": [],
   "source": [
    "dfs = {\n",
    "    'player_info': player_info,\n",
    "    'game_skater_stats': game_skater_stats,\n",
    "    'team_info': team_info,\n",
    "    'game_goalie_stats': game_goalie_stats\n",
    "}\n",
    "# Iterate over the dictionary and drop duplicates in each DataFrame\n",
    "for name, df in dfs.items():\n",
    "    dfs[name] = df.drop_duplicates()\n",
    "\n",
    "# Update the original DataFrame variables from the dictionary\n",
    "player_info, game_skater_stats, team_info, game_goalie_stats = dfs.values()\n",
    "\n"
   ]
  },
  {
   "cell_type": "code",
   "execution_count": 0,
   "metadata": {
    "application/vnd.databricks.v1+cell": {
     "cellMetadata": {
      "byteLimit": 2048000,
      "rowLimit": 10000
     },
     "inputWidgets": {},
     "nuid": "2b1aedc2-5d1b-45ce-a039-52f2f918293c",
     "showTitle": false,
     "title": ""
    }
   },
   "outputs": [],
   "source": [
    "# change column names to lower cases\n",
    "for name, df in dfs.items(): \n",
    "    dfs[name].columns = df.columns.str.lower()\n"
   ]
  },
  {
   "cell_type": "markdown",
   "metadata": {
    "application/vnd.databricks.v1+cell": {
     "cellMetadata": {
      "byteLimit": 2048000,
      "rowLimit": 10000
     },
     "inputWidgets": {},
     "nuid": "04fb1578-a18c-49a7-b03f-a7844570f208",
     "showTitle": false,
     "title": ""
    }
   },
   "source": [
    "#### Step 3: Cleaning player_info : \n",
    "- changing column datatype \n",
    "- handling null data "
   ]
  },
  {
   "cell_type": "code",
   "execution_count": 0,
   "metadata": {
    "application/vnd.databricks.v1+cell": {
     "cellMetadata": {
      "byteLimit": 2048000,
      "rowLimit": 10000
     },
     "inputWidgets": {},
     "nuid": "517a5c42-eecd-46f5-a3f1-fa2fff039885",
     "showTitle": false,
     "title": ""
    }
   },
   "outputs": [],
   "source": [
    "import numpy as np\n",
    "\n",
    "# Replace the string \"na\" with NaN\n",
    "player_info['weight'] = player_info['weight'].replace(\"NA\", np.nan)\n",
    "player_info['height_cm'] = player_info['height_cm'].replace(\"NA\", np.nan)\n",
    "\n",
    "# Convert the column to float\n",
    "player_info['weight'] = player_info['weight'].astype('float64')\n",
    "player_info['height_cm'] = player_info['height_cm'].astype('float64')\n"
   ]
  },
  {
   "cell_type": "code",
   "execution_count": 0,
   "metadata": {
    "application/vnd.databricks.v1+cell": {
     "cellMetadata": {
      "byteLimit": 2048000,
      "rowLimit": 10000
     },
     "inputWidgets": {},
     "nuid": "6f949d93-7264-4027-b8da-8039b4331670",
     "showTitle": false,
     "title": ""
    }
   },
   "outputs": [],
   "source": [
    "# Convert ids to string type \n",
    "player_info['player_id'] = player_info['player_id'].astype('string') \n",
    "player_info['firstname'] = player_info['firstname'].astype('string')\n",
    "player_info['lastname'] = player_info['lastname'].astype('string')\n",
    "player_info['primaryposition']= player_info['primaryposition'].astype('string')"
   ]
  },
  {
   "cell_type": "code",
   "execution_count": 0,
   "metadata": {
    "application/vnd.databricks.v1+cell": {
     "cellMetadata": {
      "byteLimit": 2048000,
      "rowLimit": 10000
     },
     "inputWidgets": {},
     "nuid": "090ef864-bad2-4b80-815a-8ae51d3d748b",
     "showTitle": false,
     "title": ""
    }
   },
   "outputs": [
    {
     "data": {
      "text/plain": [
       "player_id             0\n",
       "firstname             0\n",
       "lastname              0\n",
       "nationality           0\n",
       "birthcity             0\n",
       "primaryposition       0\n",
       "birthdate             0\n",
       "birthstateprovince    0\n",
       "height                0\n",
       "height_cm             0\n",
       "weight                0\n",
       "shootscatches         0\n",
       "dtype: int64"
      ]
     },
     "execution_count": 53,
     "metadata": {},
     "output_type": "execute_result"
    }
   ],
   "source": [
    "# replace nulls for 'height_cm', 'weight' as 0.0\n",
    "player_info['height_cm'] = player_info['height_cm'].fillna(0.0)\n",
    "player_info['weight']= player_info['weight'].fillna(0.0)\n",
    "\n",
    "#check for nulls again\n",
    "player_info.isnull().sum()\n"
   ]
  },
  {
   "cell_type": "markdown",
   "metadata": {
    "application/vnd.databricks.v1+cell": {
     "cellMetadata": {},
     "inputWidgets": {},
     "nuid": "39cfdbed-5194-49b9-a2fb-69012a2cc09d",
     "showTitle": false,
     "title": ""
    }
   },
   "source": [
    "#### Step 4: Cleaning/Transforming game_skater_stats \n",
    "- changing column datatype \n",
    "- handling null data \n"
   ]
  },
  {
   "cell_type": "code",
   "execution_count": 0,
   "metadata": {
    "application/vnd.databricks.v1+cell": {
     "cellMetadata": {
      "byteLimit": 2048000,
      "rowLimit": 10000
     },
     "inputWidgets": {},
     "nuid": "6c5cd0ec-ffa6-4c56-bc28-93f5c210a3ef",
     "showTitle": false,
     "title": ""
    }
   },
   "outputs": [],
   "source": [
    "# Replace the string \"NA\" with 0.0\n",
    "game_skater_stats['takeaways'] = game_skater_stats['takeaways'].replace(\"NA\", np.nan)\n",
    "game_skater_stats['blocked'] = game_skater_stats['blocked'].replace(\"NA\", np.nan)\n",
    "\n",
    "# Convert the column to float\n",
    "game_skater_stats['takeaways'] =game_skater_stats['takeaways'].astype('float64')\n",
    "game_skater_stats['blocked'] = game_skater_stats['blocked'].astype('float64')\n",
    "\n",
    "# Convert IDs to string type \n",
    "game_skater_stats['game_id'] = game_skater_stats['game_id'].astype('string')\n",
    "game_skater_stats['player_id'] = game_skater_stats['player_id'].astype('string')\n",
    "game_skater_stats['team_id'] = game_skater_stats['team_id'].astype('string')\n",
    "\n"
   ]
  },
  {
   "cell_type": "code",
   "execution_count": 0,
   "metadata": {
    "application/vnd.databricks.v1+cell": {
     "cellMetadata": {
      "byteLimit": 2048000,
      "rowLimit": 10000
     },
     "inputWidgets": {},
     "nuid": "6762346e-c467-48b1-b1de-6c66542d7590",
     "showTitle": false,
     "title": ""
    }
   },
   "outputs": [
    {
     "data": {
      "text/plain": [
       "game_id                      0\n",
       "player_id                    0\n",
       "team_id                      0\n",
       "timeonice                    0\n",
       "assists                      0\n",
       "goals                        0\n",
       "shots                        0\n",
       "hits                         0\n",
       "powerplaygoals               0\n",
       "powerplayassists             0\n",
       "penaltyminutes               0\n",
       "faceoffwins                  0\n",
       "faceofftaken                 0\n",
       "takeaways               398107\n",
       "giveaways                    0\n",
       "shorthandedgoals             0\n",
       "shorthandedassists           0\n",
       "blocked                 398107\n",
       "plusminus                    0\n",
       "eventimeonice                0\n",
       "shorthandedtimeonice         0\n",
       "powerplaytimeonice           0\n",
       "dtype: int64"
      ]
     },
     "execution_count": 61,
     "metadata": {},
     "output_type": "execute_result"
    }
   ],
   "source": [
    "#check for null\n",
    "game_skater_stats.isnull().sum()"
   ]
  },
  {
   "cell_type": "code",
   "execution_count": 0,
   "metadata": {
    "application/vnd.databricks.v1+cell": {
     "cellMetadata": {
      "byteLimit": 2048000,
      "rowLimit": 10000
     },
     "inputWidgets": {},
     "nuid": "f41e0d8b-d66f-4755-bcd5-c2aacc72d59a",
     "showTitle": false,
     "title": ""
    }
   },
   "outputs": [
    {
     "data": {
      "text/plain": [
       "game_id                 0\n",
       "player_id               0\n",
       "team_id                 0\n",
       "timeonice               0\n",
       "assists                 0\n",
       "goals                   0\n",
       "shots                   0\n",
       "hits                    0\n",
       "powerplaygoals          0\n",
       "powerplayassists        0\n",
       "penaltyminutes          0\n",
       "faceoffwins             0\n",
       "faceofftaken            0\n",
       "takeaways               0\n",
       "giveaways               0\n",
       "shorthandedgoals        0\n",
       "shorthandedassists      0\n",
       "blocked                 0\n",
       "plusminus               0\n",
       "eventimeonice           0\n",
       "shorthandedtimeonice    0\n",
       "powerplaytimeonice      0\n",
       "dtype: int64"
      ]
     },
     "execution_count": 63,
     "metadata": {},
     "output_type": "execute_result"
    }
   ],
   "source": [
    "# fill null data with 0.0 \n",
    "game_skater_stats['takeaways'] = game_skater_stats['takeaways'].fillna(0.0)\n",
    "game_skater_stats['blocked'] = game_skater_stats['blocked'].fillna(0.0)\n",
    "\n",
    "#check for null\n",
    "game_skater_stats.isnull().sum()"
   ]
  },
  {
   "cell_type": "code",
   "execution_count": 0,
   "metadata": {
    "application/vnd.databricks.v1+cell": {
     "cellMetadata": {
      "byteLimit": 2048000,
      "rowLimit": 10000
     },
     "inputWidgets": {},
     "nuid": "b27a3b57-354e-41c6-9ebf-43dbecd01eb0",
     "showTitle": false,
     "title": ""
    }
   },
   "outputs": [],
   "source": [
    "# Convert other id types to strings\n",
    "team_info['team_id'] = team_info['team_id'].astype('string')\n",
    "team_info['shortname'] = team_info['shortname'].astype('string')\n",
    "team_info['teamname'] = team_info['teamname'].astype('string')\n",
    "game_goalie_stats['game_id'] = game_goalie_stats['game_id'].astype('string')\n",
    "game_goalie_stats['player_id'] = game_goalie_stats['player_id'].astype('string')\n",
    "game_goalie_stats['team_id'] = game_goalie_stats['team_id'].astype('string')\n"
   ]
  },
  {
   "cell_type": "code",
   "execution_count": 0,
   "metadata": {
    "application/vnd.databricks.v1+cell": {
     "cellMetadata": {
      "byteLimit": 2048000,
      "rowLimit": 10000
     },
     "inputWidgets": {},
     "nuid": "44e4b780-0358-4de1-b6ff-2769d48b4e10",
     "showTitle": false,
     "title": ""
    }
   },
   "outputs": [
    {
     "data": {
      "text/plain": [
       "0"
      ]
     },
     "execution_count": 67,
     "metadata": {},
     "output_type": "execute_result"
    }
   ],
   "source": [
    "# check for duplicates\n",
    "#game_skater_stats.duplicated().sum()\n"
   ]
  },
  {
   "cell_type": "code",
   "execution_count": 0,
   "metadata": {
    "application/vnd.databricks.v1+cell": {
     "cellMetadata": {
      "byteLimit": 2048000,
      "rowLimit": 10000
     },
     "inputWidgets": {},
     "nuid": "0a609144-c2f3-4a3b-a559-af59caae9eeb",
     "showTitle": false,
     "title": ""
    }
   },
   "outputs": [
    {
     "data": {
      "text/plain": [
       "0"
      ]
     },
     "execution_count": 69,
     "metadata": {},
     "output_type": "execute_result"
    }
   ],
   "source": [
    "\n",
    "#team_info.duplicated().sum()"
   ]
  },
  {
   "cell_type": "code",
   "execution_count": 0,
   "metadata": {
    "application/vnd.databricks.v1+cell": {
     "cellMetadata": {
      "byteLimit": 2048000,
      "rowLimit": 10000
     },
     "inputWidgets": {},
     "nuid": "19c4595e-336d-44a5-8387-fd2a69a6480f",
     "showTitle": false,
     "title": ""
    }
   },
   "outputs": [
    {
     "data": {
      "text/plain": [
       "0"
      ]
     },
     "execution_count": 71,
     "metadata": {},
     "output_type": "execute_result"
    }
   ],
   "source": [
    "#game_goalie_stats.duplicated().sum()\n"
   ]
  },
  {
   "cell_type": "code",
   "execution_count": 0,
   "metadata": {
    "application/vnd.databricks.v1+cell": {
     "cellMetadata": {
      "byteLimit": 2048000,
      "rowLimit": 10000
     },
     "inputWidgets": {},
     "nuid": "4219b5a9-1b3a-4f5c-aab3-6118a78023f4",
     "showTitle": false,
     "title": ""
    }
   },
   "outputs": [
    {
     "data": {
      "text/plain": [
       "team_id         0\n",
       "franchiseid     0\n",
       "shortname       0\n",
       "teamname        0\n",
       "abbreviation    0\n",
       "link            0\n",
       "dtype: int64"
      ]
     },
     "execution_count": 73,
     "metadata": {},
     "output_type": "execute_result"
    }
   ],
   "source": [
    "\n",
    "#team_info.isna().sum()\n"
   ]
  },
  {
   "cell_type": "code",
   "execution_count": 0,
   "metadata": {
    "application/vnd.databricks.v1+cell": {
     "cellMetadata": {
      "byteLimit": 2048000,
      "rowLimit": 10000
     },
     "inputWidgets": {},
     "nuid": "1ec45717-9969-4b9a-a12f-9ac730532463",
     "showTitle": false,
     "title": ""
    }
   },
   "outputs": [
    {
     "data": {
      "text/plain": [
       "game_id                          0\n",
       "player_id                        0\n",
       "team_id                          0\n",
       "timeonice                        0\n",
       "assists                          0\n",
       "goals                            0\n",
       "pim                              0\n",
       "shots                            0\n",
       "saves                            0\n",
       "powerplaysaves                   0\n",
       "shorthandedsaves                 0\n",
       "evensaves                        0\n",
       "shorthandedshotsagainst          0\n",
       "evenshotsagainst                 0\n",
       "powerplayshotsagainst            0\n",
       "decision                      3719\n",
       "savepercentage                   0\n",
       "powerplaysavepercentage          0\n",
       "evenstrengthsavepercentage       0\n",
       "dtype: int64"
      ]
     },
     "execution_count": 21,
     "metadata": {},
     "output_type": "execute_result"
    }
   ],
   "source": [
    "#game_goalie_stats.isna().sum()"
   ]
  },
  {
   "cell_type": "code",
   "execution_count": 0,
   "metadata": {
    "application/vnd.databricks.v1+cell": {
     "cellMetadata": {
      "byteLimit": 2048000,
      "rowLimit": 10000
     },
     "inputWidgets": {},
     "nuid": "88861bab-d8b0-457e-9100-145680793904",
     "showTitle": false,
     "title": ""
    }
   },
   "outputs": [],
   "source": [
    "# fill null data with 0.0 \n",
    "game_goalie_stats['decision'] = game_goalie_stats['decision'].fillna('NA')\n"
   ]
  },
  {
   "cell_type": "code",
   "execution_count": 0,
   "metadata": {
    "application/vnd.databricks.v1+cell": {
     "cellMetadata": {
      "byteLimit": 2048000,
      "rowLimit": 10000
     },
     "inputWidgets": {},
     "nuid": "c044e4ab-c367-4df9-9cc2-da4836630f98",
     "showTitle": false,
     "title": ""
    }
   },
   "outputs": [
    {
     "name": "stdout",
     "output_type": "stream",
     "text": [
      "<class 'pandas.core.frame.DataFrame'>\n",
      "Int64Index: 51163 entries, 0 to 56653\n",
      "Data columns (total 19 columns):\n",
      " #   Column                      Non-Null Count  Dtype \n",
      "---  ------                      --------------  ----- \n",
      " 0   game_id                     51163 non-null  string\n",
      " 1   player_id                   51163 non-null  string\n",
      " 2   team_id                     51163 non-null  string\n",
      " 3   timeonice                   51163 non-null  int32 \n",
      " 4   assists                     51163 non-null  int32 \n",
      " 5   goals                       51163 non-null  int32 \n",
      " 6   pim                         51163 non-null  int32 \n",
      " 7   shots                       51163 non-null  int32 \n",
      " 8   saves                       51163 non-null  int32 \n",
      " 9   powerplaysaves              51163 non-null  int32 \n",
      " 10  shorthandedsaves            51163 non-null  int32 \n",
      " 11  evensaves                   51163 non-null  int32 \n",
      " 12  shorthandedshotsagainst     51163 non-null  int32 \n",
      " 13  evenshotsagainst            51163 non-null  int32 \n",
      " 14  powerplayshotsagainst       51163 non-null  int32 \n",
      " 15  decision                    51163 non-null  object\n",
      " 16  savepercentage              51163 non-null  object\n",
      " 17  powerplaysavepercentage     51163 non-null  object\n",
      " 18  evenstrengthsavepercentage  51163 non-null  object\n",
      "dtypes: int32(12), object(4), string(3)\n",
      "memory usage: 5.5+ MB\n"
     ]
    }
   ],
   "source": [
    "game_goalie_stats.info()"
   ]
  },
  {
   "cell_type": "code",
   "execution_count": 0,
   "metadata": {
    "application/vnd.databricks.v1+cell": {
     "cellMetadata": {
      "byteLimit": 2048000,
      "rowLimit": 10000
     },
     "inputWidgets": {},
     "nuid": "786d16e8-24bb-4632-9ff0-84d1d9bd70ab",
     "showTitle": false,
     "title": ""
    }
   },
   "outputs": [
    {
     "name": "stdout",
     "output_type": "stream",
     "text": [
      "<class 'pandas.core.frame.DataFrame'>\n",
      "Int64Index: 3925 entries, 0 to 3924\n",
      "Data columns (total 12 columns):\n",
      " #   Column              Non-Null Count  Dtype         \n",
      "---  ------              --------------  -----         \n",
      " 0   player_id           3925 non-null   string        \n",
      " 1   firstname           3925 non-null   string        \n",
      " 2   lastname            3925 non-null   string        \n",
      " 3   nationality         3925 non-null   object        \n",
      " 4   birthcity           3925 non-null   object        \n",
      " 5   primaryposition     3925 non-null   string        \n",
      " 6   birthdate           3925 non-null   datetime64[ns]\n",
      " 7   birthstateprovince  3925 non-null   object        \n",
      " 8   height              3925 non-null   object        \n",
      " 9   height_cm           3925 non-null   float64       \n",
      " 10  weight              3925 non-null   float64       \n",
      " 11  shootscatches       3925 non-null   object        \n",
      "dtypes: datetime64[ns](1), float64(2), object(5), string(4)\n",
      "memory usage: 398.6+ KB\n"
     ]
    }
   ],
   "source": [
    "player_info.info()"
   ]
  },
  {
   "cell_type": "code",
   "execution_count": 0,
   "metadata": {
    "application/vnd.databricks.v1+cell": {
     "cellMetadata": {
      "byteLimit": 2048000,
      "rowLimit": 10000
     },
     "inputWidgets": {},
     "nuid": "498de30f-c088-4322-b04e-5d38e8bf14d4",
     "showTitle": false,
     "title": ""
    }
   },
   "outputs": [
    {
     "name": "stdout",
     "output_type": "stream",
     "text": [
      "<class 'pandas.core.frame.DataFrame'>\n",
      "Int64Index: 33 entries, 0 to 32\n",
      "Data columns (total 6 columns):\n",
      " #   Column        Non-Null Count  Dtype \n",
      "---  ------        --------------  ----- \n",
      " 0   team_id       33 non-null     string\n",
      " 1   franchiseid   33 non-null     int32 \n",
      " 2   shortname     33 non-null     string\n",
      " 3   teamname      33 non-null     string\n",
      " 4   abbreviation  33 non-null     object\n",
      " 5   link          33 non-null     object\n",
      "dtypes: int32(1), object(2), string(3)\n",
      "memory usage: 1.7+ KB\n"
     ]
    }
   ],
   "source": [
    "team_info.info()"
   ]
  },
  {
   "cell_type": "code",
   "execution_count": 0,
   "metadata": {
    "application/vnd.databricks.v1+cell": {
     "cellMetadata": {
      "byteLimit": 2048000,
      "rowLimit": 10000
     },
     "inputWidgets": {},
     "nuid": "df450197-d419-4a69-b2af-e969067b3e90",
     "showTitle": false,
     "title": ""
    }
   },
   "outputs": [],
   "source": [
    "# Create a dictionary of DataFrames\n",
    "dfs_final = {\n",
    "    'player_info': player_info,\n",
    "    'game_skater_stats': game_skater_stats,\n",
    "    'team_info': team_info,\n",
    "    'game_goalie_stats': game_goalie_stats\n",
    "}\n",
    "\n",
    "# create spark dataframe dictionary\n",
    "spark_dfs = {}\n",
    "\n",
    "# populate it with corresponding spark df using pandas df in dfs\n",
    "for name, df in dfs_final.items():\n",
    "    spark_dfs[name] = spark.createDataFrame(df)\n",
    "\n",
    "for name, spark_df in spark_dfs.items():\n",
    "    # Construct the full path for each file\n",
    "    file_path = f\"/mnt/nhl-finalproject/silver/goat_{name}\"\n",
    "    \n",
    "    # Write the DataFrame to Delta format\n",
    "    spark_df.write.format('delta').mode('overwrite').save(file_path)\n"
   ]
  },
  {
   "cell_type": "code",
   "execution_count": 0,
   "metadata": {
    "application/vnd.databricks.v1+cell": {
     "cellMetadata": {
      "byteLimit": 2048000,
      "rowLimit": 10000
     },
     "inputWidgets": {},
     "nuid": "9a52981a-c5d7-438d-8020-2bc658575d8b",
     "showTitle": false,
     "title": ""
    }
   },
   "outputs": [
    {
     "data": {
      "text/plain": [
       "[FileInfo(path='dbfs:/mnt/nhl-finalproject/silver/goat_game_goalie_stats/', name='goat_game_goalie_stats/', size=0, modificationTime=0),\n",
       " FileInfo(path='dbfs:/mnt/nhl-finalproject/silver/goat_game_skater_stats/', name='goat_game_skater_stats/', size=0, modificationTime=0),\n",
       " FileInfo(path='dbfs:/mnt/nhl-finalproject/silver/goat_player_info/', name='goat_player_info/', size=0, modificationTime=0),\n",
       " FileInfo(path='dbfs:/mnt/nhl-finalproject/silver/goat_team_info/', name='goat_team_info/', size=0, modificationTime=0)]"
      ]
     },
     "execution_count": 86,
     "metadata": {},
     "output_type": "execute_result"
    }
   ],
   "source": [
    "dbutils.fs.ls(\"/mnt/nhl-finalproject/silver\")"
   ]
  },
  {
   "cell_type": "code",
   "execution_count": 0,
   "metadata": {
    "application/vnd.databricks.v1+cell": {
     "cellMetadata": {},
     "inputWidgets": {},
     "nuid": "d7a928ce-ca8f-4c61-98a5-4039cb24c0c6",
     "showTitle": false,
     "title": ""
    }
   },
   "outputs": [],
   "source": []
  }
 ],
 "metadata": {
  "application/vnd.databricks.v1+notebook": {
   "dashboards": [],
   "environmentMetadata": null,
   "language": "python",
   "notebookMetadata": {
    "pythonIndentUnit": 4
   },
   "notebookName": "Transform_bronze_silver_goat",
   "widgets": {}
  },
  "language_info": {
   "name": "python"
  }
 },
 "nbformat": 4,
 "nbformat_minor": 0
}
