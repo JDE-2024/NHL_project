{
 "cells": [
  {
   "cell_type": "code",
   "execution_count": 0,
   "metadata": {
    "application/vnd.databricks.v1+cell": {
     "cellMetadata": {
      "byteLimit": 2048000,
      "rowLimit": 10000
     },
     "inputWidgets": {},
     "nuid": "f2e935c2-39a1-4fff-92c4-baba426b2019",
     "showTitle": false,
     "title": ""
    }
   },
   "outputs": [],
   "source": [
    "#Mount Storage container to ADLS \n",
    "storage_account_name = \"nhlrawkagglegenlake\"\n",
    "container_name = \"nhl-finalproject\"\n",
    "mount_point = \"/mnt/nhl-finalproject\"\n",
    "accessKey = \"*****\"\n",
    "\n",
    "\n",
    "if not any(mount.mountPoint == mount_point for mount in dbutils.fs.mounts()):\n",
    "  dbutils.fs.mount(\n",
    "    source = f\"wasbs://{container_name}@{storage_account_name}.blob.core.windows.net/\",\n",
    "    mount_point = mount_point,\n",
    "    extra_configs = {\"fs.azure.account.key.\"+storage_account_name+\".blob.core.windows.net\": accessKey})"
   ]
  },
  {
   "cell_type": "code",
   "execution_count": 0,
   "metadata": {
    "application/vnd.databricks.v1+cell": {
     "cellMetadata": {},
     "inputWidgets": {},
     "nuid": "754cf2d8-8b2e-4af6-b916-7584ce31709a",
     "showTitle": false,
     "title": ""
    }
   },
   "outputs": [],
   "source": []
  }
 ],
 "metadata": {
  "application/vnd.databricks.v1+notebook": {
   "dashboards": [],
   "environmentMetadata": null,
   "language": "python",
   "notebookMetadata": {
    "pythonIndentUnit": 4
   },
   "notebookName": "Storage Mount",
   "widgets": {}
  },
  "language_info": {
   "name": "python"
  }
 },
 "nbformat": 4,
 "nbformat_minor": 0
}
