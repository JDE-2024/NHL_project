{
 "cells": [
  {
   "cell_type": "markdown",
   "metadata": {
    "application/vnd.databricks.v1+cell": {
     "cellMetadata": {
      "byteLimit": 2048000,
      "rowLimit": 10000
     },
     "inputWidgets": {},
     "nuid": "22fdb81a-707b-438f-8e0c-c52373f313e8",
     "showTitle": false,
     "title": ""
    }
   },
   "source": [
    "### Step 1: Load Bronze data into notebook"
   ]
  },
  {
   "cell_type": "code",
   "execution_count": 0,
   "metadata": {
    "application/vnd.databricks.v1+cell": {
     "cellMetadata": {
      "byteLimit": 2048000,
      "rowLimit": 10000
     },
     "inputWidgets": {},
     "nuid": "f2b9d98f-9a6e-4f15-b850-76506539c2b1",
     "showTitle": false,
     "title": ""
    }
   },
   "outputs": [],
   "source": [
    "# Load the CSV file into a DataFrame\n",
    "game_plays_csv_path = \"/mnt/nhl-finalproject/bronze/nhlkaggle.zip/game_plays.csv\"\n",
    "xy_df = spark.read.csv(game_plays_csv_path, header=True, inferSchema=True)\n"
   ]
  },
  {
   "cell_type": "markdown",
   "metadata": {
    "application/vnd.databricks.v1+cell": {
     "cellMetadata": {},
     "inputWidgets": {},
     "nuid": "3d85db5a-ad3f-4a17-894c-43fd620150a4",
     "showTitle": false,
     "title": ""
    }
   },
   "source": [
    "### Step 2: Cleaning \n",
    "- drop all duplicates  \n",
    "- rename columns to lower case \n"
   ]
  },
  {
   "cell_type": "code",
   "execution_count": 0,
   "metadata": {
    "application/vnd.databricks.v1+cell": {
     "cellMetadata": {
      "byteLimit": 2048000,
      "rowLimit": 10000
     },
     "inputWidgets": {},
     "nuid": "87da27d0-9982-4801-adcd-19a761a8771e",
     "showTitle": false,
     "title": ""
    }
   },
   "outputs": [],
   "source": [
    "# Cleaning : remove duplicates\n",
    "xy_df= xy_df.dropDuplicates()\n"
   ]
  },
  {
   "cell_type": "code",
   "execution_count": 0,
   "metadata": {
    "application/vnd.databricks.v1+cell": {
     "cellMetadata": {
      "byteLimit": 2048000,
      "rowLimit": 10000
     },
     "inputWidgets": {},
     "nuid": "ed653c75-7b17-4c7d-9e3f-ad3b52ecfcf5",
     "showTitle": false,
     "title": ""
    }
   },
   "outputs": [],
   "source": [
    "# rename columns to lower case \n",
    "xy_df = xy_df.toDF(*[c.lower() for c in xy_df.columns])\n"
   ]
  },
  {
   "cell_type": "markdown",
   "metadata": {
    "application/vnd.databricks.v1+cell": {
     "cellMetadata": {
      "byteLimit": 2048000,
      "rowLimit": 10000
     },
     "inputWidgets": {},
     "nuid": "c0fa8e9c-96e9-4f78-98b0-88b29718f244",
     "showTitle": false,
     "title": ""
    }
   },
   "source": [
    "### Step 3: Cleaning \n",
    "- convert data type of columns x and y to numeric type\n",
    "- drop null values of x \n",
    "- drop values of x less than -89 or more than 89"
   ]
  },
  {
   "cell_type": "code",
   "execution_count": 0,
   "metadata": {
    "application/vnd.databricks.v1+cell": {
     "cellMetadata": {
      "byteLimit": 2048000,
      "rowLimit": 10000
     },
     "inputWidgets": {},
     "nuid": "7dc13595-6e38-4b28-a0ce-f319c0cc4705",
     "showTitle": false,
     "title": ""
    }
   },
   "outputs": [],
   "source": [
    "from pyspark.sql.types import DoubleType\n",
    "\n",
    "# Ensure 'x' is of numeric type\n",
    "xy_df = xy_df.withColumn('x', xy_df['x'].cast(DoubleType()))\n",
    "xy_df = xy_df.withColumn('y', xy_df['y'].cast(DoubleType()))\n",
    "\n",
    "# Cleaning: Remove rows where x is null\n",
    "xy_df = xy_df.filter(xy_df['x'].isNotNull())\n",
    "\n",
    "\n",
    "# Transform: Extract only rows where -89 <= x <= 89\n",
    "xy_df = xy_df.filter((xy_df['x'] >= -89) & (xy_df['x'] <= 89))\n",
    "\n"
   ]
  },
  {
   "cell_type": "code",
   "execution_count": 0,
   "metadata": {
    "application/vnd.databricks.v1+cell": {
     "cellMetadata": {},
     "inputWidgets": {},
     "nuid": "0a715a14-b06b-4bc1-840a-2c4e1ac38552",
     "showTitle": false,
     "title": ""
    }
   },
   "outputs": [],
   "source": []
  },
  {
   "cell_type": "code",
   "execution_count": 0,
   "metadata": {
    "application/vnd.databricks.v1+cell": {
     "cellMetadata": {
      "byteLimit": 2048000,
      "rowLimit": 10000
     },
     "inputWidgets": {},
     "nuid": "de7430b2-97ca-4698-9617-5919070728d8",
     "showTitle": false,
     "title": ""
    }
   },
   "outputs": [],
   "source": [
    "# save transformed dataframe to parquet files in silver layer\n",
    "xy_df.write.format('delta').mode('overwrite').save('/mnt/nhl-finalproject/silver/xy_game_plays')"
   ]
  },
  {
   "cell_type": "code",
   "execution_count": 0,
   "metadata": {
    "application/vnd.databricks.v1+cell": {
     "cellMetadata": {},
     "inputWidgets": {},
     "nuid": "fcc1aa85-8b91-4d4c-916d-1271846bd3da",
     "showTitle": false,
     "title": ""
    }
   },
   "outputs": [],
   "source": []
  }
 ],
 "metadata": {
  "application/vnd.databricks.v1+notebook": {
   "dashboards": [],
   "environmentMetadata": null,
   "language": "python",
   "notebookMetadata": {
    "pythonIndentUnit": 4
   },
   "notebookName": "Transform_bronze_silver_xy",
   "widgets": {}
  },
  "kernelspec": {
   "display_name": ".venv",
   "language": "python",
   "name": "python3"
  },
  "language_info": {
   "codemirror_mode": {
    "name": "ipython",
    "version": 3
   },
   "file_extension": ".py",
   "mimetype": "text/x-python",
   "name": "python",
   "nbconvert_exporter": "python",
   "pygments_lexer": "ipython3",
   "version": "3.11.5"
  }
 },
 "nbformat": 4,
 "nbformat_minor": 0
}
